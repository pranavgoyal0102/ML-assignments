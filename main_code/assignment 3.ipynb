{
 "cells": [
  {
   "cell_type": "code",
   "id": "initial_id",
   "metadata": {
    "collapsed": true,
    "ExecuteTime": {
     "end_time": "2025-09-07T17:07:13.139461Z",
     "start_time": "2025-09-07T17:07:13.102047Z"
    }
   },
   "source": [
    "import pandas as pd\n",
    "import numpy as np\n",
    "from sklearn.preprocessing import StandardScaler, LabelEncoder\n",
    "from sklearn.model_selection import train_test_split\n",
    "from sklearn.impute import SimpleImputer\n",
    "from sklearn.decomposition import PCA\n",
    "from sklearn.linear_model import LinearRegression\n",
    "from sklearn.metrics import r2_score\n",
    "import warnings\n",
    "warnings.filterwarnings(\"ignore\", category=RuntimeWarning)\n",
    "\n"
   ],
   "outputs": [],
   "execution_count": 22
  },
  {
   "metadata": {},
   "cell_type": "markdown",
   "source": "Q1 – K-Fold Cross Validation",
   "id": "1af8b9c2b9adb728"
  },
  {
   "metadata": {
    "ExecuteTime": {
     "end_time": "2025-09-07T16:58:44.823587Z",
     "start_time": "2025-09-07T16:58:44.813456Z"
    }
   },
   "cell_type": "code",
   "source": [
    "df = pd.read_csv('USA_Housing.csv')\n",
    "print(\"House Dataset Shape:\", df.shape)\n",
    "print(\"Columns:\", df.columns.tolist())\n"
   ],
   "id": "852656a7ab39cdd7",
   "outputs": [
    {
     "name": "stdout",
     "output_type": "stream",
     "text": [
      "House Dataset Shape: (5000, 6)\n",
      "Columns: ['Avg. Area Income', 'Avg. Area House Age', 'Avg. Area Number of Rooms', 'Avg. Area Number of Bedrooms', 'Area Population', 'Price']\n"
     ]
    }
   ],
   "execution_count": 2
  },
  {
   "metadata": {
    "ExecuteTime": {
     "end_time": "2025-09-07T16:59:04.518138Z",
     "start_time": "2025-09-07T16:59:04.511394Z"
    }
   },
   "cell_type": "code",
   "source": [
    "X = df.drop('Price', axis=1)\n",
    "y = df['Price']\n",
    "\n",
    "scaler = StandardScaler()\n",
    "X_scaled = pd.DataFrame(scaler.fit_transform(X), columns=X.columns)\n"
   ],
   "id": "c17021d2ed25f338",
   "outputs": [],
   "execution_count": 3
  },
  {
   "metadata": {
    "ExecuteTime": {
     "end_time": "2025-09-07T16:59:20.989122Z",
     "start_time": "2025-09-07T16:59:20.975839Z"
    }
   },
   "cell_type": "code",
   "source": [
    "n = len(X_scaled)\n",
    "k = 5\n",
    "fold_size = n // k\n",
    "best_beta = None\n",
    "best_r2 = -np.inf\n",
    "results = []\n",
    "\n",
    "for i in range(k):\n",
    "    start_idx = i * fold_size\n",
    "    end_idx = (i + 1) * fold_size if i < k - 1 else n\n",
    "\n",
    "    test_indices = list(range(start_idx, end_idx))\n",
    "    train_indices = list(range(0, start_idx)) + list(range(end_idx, n))\n",
    "\n",
    "    X_train = X_scaled.iloc[train_indices]\n",
    "    X_test = X_scaled.iloc[test_indices]\n",
    "    y_train = y.iloc[train_indices]\n",
    "    y_test = y.iloc[test_indices]\n",
    "\n",
    "    X_train_with_intercept = np.column_stack([np.ones(len(X_train)), X_train])\n",
    "    X_test_with_intercept = np.column_stack([np.ones(len(X_test)), X_test])\n",
    "\n",
    "    beta = np.linalg.inv(X_train_with_intercept.T @ X_train_with_intercept) @ X_train_with_intercept.T @ y_train\n",
    "    y_pred = X_test_with_intercept @ beta\n",
    "    r2 = r2_score(y_test, y_pred)\n",
    "\n",
    "    results.append({'fold': i + 1, 'beta': beta, 'r2_score': r2})\n",
    "    print(f\"Fold {i+1}: R² = {r2:.4f}\")\n",
    "\n",
    "    if r2 > best_r2:\n",
    "        best_r2 = r2\n",
    "        best_beta = beta\n",
    "\n",
    "print(f\"\\nBest R² Score: {best_r2:.4f}\")\n"
   ],
   "id": "1092a74cacab052f",
   "outputs": [
    {
     "name": "stdout",
     "output_type": "stream",
     "text": [
      "Fold 1: R² = 0.9176\n",
      "Fold 2: R² = 0.9203\n",
      "Fold 3: R² = 0.9152\n",
      "Fold 4: R² = 0.9209\n",
      "Fold 5: R² = 0.9138\n",
      "\n",
      "Best R² Score: 0.9209\n"
     ]
    }
   ],
   "execution_count": 4
  },
  {
   "metadata": {
    "ExecuteTime": {
     "end_time": "2025-09-07T16:59:34.635200Z",
     "start_time": "2025-09-07T16:59:34.629319Z"
    }
   },
   "cell_type": "code",
   "source": [
    "X_train, X_test, y_train, y_test = train_test_split(X_scaled, y, test_size=0.3, random_state=42)\n",
    "\n",
    "X_train_with_intercept = np.column_stack([np.ones(len(X_train)), X_train])\n",
    "X_test_with_intercept = np.column_stack([np.ones(len(X_test)), X_test])\n",
    "\n",
    "y_pred_test = X_test_with_intercept @ best_beta\n",
    "final_r2 = r2_score(y_test, y_pred_test)\n",
    "\n",
    "print(f\"Final Test R² Score: {final_r2:.4f}\")\n"
   ],
   "id": "64a3747d8c5b9f9b",
   "outputs": [
    {
     "name": "stdout",
     "output_type": "stream",
     "text": [
      "Final Test R² Score: 0.9147\n"
     ]
    }
   ],
   "execution_count": 5
  },
  {
   "metadata": {},
   "cell_type": "markdown",
   "source": "Q2 – Gradient Descent with Validation Set",
   "id": "f61fc5b09537bcea"
  },
  {
   "metadata": {
    "ExecuteTime": {
     "end_time": "2025-09-07T17:00:03.214130Z",
     "start_time": "2025-09-07T17:00:03.200451Z"
    }
   },
   "cell_type": "code",
   "source": [
    "df = pd.read_csv('USA_Housing.csv')\n",
    "X = df.drop('Price', axis=1)\n",
    "y = df['Price']\n",
    "\n",
    "scaler = StandardScaler()\n",
    "X_scaled = scaler.fit_transform(X)\n",
    "\n",
    "X_train_val, X_test, y_train_val, y_test = train_test_split(X_scaled, y, test_size=0.3, random_state=42)\n",
    "X_train, X_val, y_train, y_val = train_test_split(X_train_val, y_train_val, test_size=0.2, random_state=42)\n"
   ],
   "id": "9b31da1bf05fc7db",
   "outputs": [],
   "execution_count": 6
  },
  {
   "metadata": {
    "ExecuteTime": {
     "end_time": "2025-09-07T17:00:14.192847Z",
     "start_time": "2025-09-07T17:00:14.190050Z"
    }
   },
   "cell_type": "code",
   "source": [
    "def gradient_descent(X, y, learning_rate=0.01, iterations=1000):\n",
    "    X_with_intercept = np.column_stack([np.ones(len(X)), X])\n",
    "    m, n = X_with_intercept.shape\n",
    "    beta = np.zeros(n)\n",
    "\n",
    "    for i in range(iterations):\n",
    "        y_pred = X_with_intercept @ beta\n",
    "        gradient = (2 / m) * X_with_intercept.T @ (y_pred - y)\n",
    "        beta -= learning_rate * gradient\n",
    "\n",
    "    return beta\n"
   ],
   "id": "9a6fb1596231178b",
   "outputs": [],
   "execution_count": 7
  },
  {
   "metadata": {
    "ExecuteTime": {
     "end_time": "2025-09-07T17:01:16.732383Z",
     "start_time": "2025-09-07T17:01:16.497932Z"
    }
   },
   "cell_type": "code",
   "source": [
    "learning_rates = [0.001, 0.01, 0.1, 1]\n",
    "best_lr = None\n",
    "best_val_r2 = -np.inf\n",
    "best_coefficients = None\n",
    "\n",
    "for lr in learning_rates:\n",
    "    coefficients = gradient_descent(X_train, y_train, lr, 1000)\n",
    "\n",
    "    X_val_with_intercept = np.column_stack([np.ones(len(X_val)), X_val])\n",
    "    X_test_with_intercept = np.column_stack([np.ones(len(X_test)), X_test])\n",
    "\n",
    "    y_val_pred = X_val_with_intercept @ coefficients\n",
    "    y_test_pred = X_test_with_intercept @ coefficients\n",
    "\n",
    "    val_r2 = r2_score(y_val, y_val_pred)\n",
    "    test_r2 = r2_score(y_test, y_test_pred)\n",
    "\n",
    "    print(f\"Learning Rate: {lr}, Validation R²: {val_r2:.4f}, Test R²: {test_r2:.4f}\")\n",
    "\n",
    "    if val_r2 > best_val_r2:\n",
    "        best_val_r2 = val_r2\n",
    "        best_lr = lr\n",
    "        best_coefficients = coefficients\n",
    "\n",
    "print(f\"\\nBest Learning Rate: {best_lr}\")\n",
    "print(f\"Best Validation R²: {best_val_r2:.4f}\")\n"
   ],
   "id": "850ad4e76425d46e",
   "outputs": [
    {
     "name": "stdout",
     "output_type": "stream",
     "text": [
      "Learning Rate: 0.001, Validation R²: 0.6820, Test R²: 0.6490\n",
      "Learning Rate: 0.01, Validation R²: 0.9098, Test R²: 0.9148\n",
      "Learning Rate: 0.1, Validation R²: 0.9098, Test R²: 0.9148\n",
      "Learning Rate: 1, Validation R²: -inf, Test R²: -inf\n",
      "\n",
      "Best Learning Rate: 0.01\n",
      "Best Validation R²: 0.9098\n"
     ]
    }
   ],
   "execution_count": 11
  },
  {
   "metadata": {},
   "cell_type": "markdown",
   "source": "Q3 – Car Price Prediction with Preprocessing & PCA",
   "id": "9f71e3efd8380370"
  },
  {
   "metadata": {
    "ExecuteTime": {
     "end_time": "2025-09-07T17:01:52.874965Z",
     "start_time": "2025-09-07T17:01:50.547206Z"
    }
   },
   "cell_type": "code",
   "source": [
    "url = \"https://archive.ics.uci.edu/ml/machine-learning-databases/autos/imports-85.data\"\n",
    "columns = [\"symboling\", \"normalized_losses\", \"make\", \"fuel_type\", \"aspiration\",\n",
    "           \"num_doors\", \"body_style\", \"drive_wheels\", \"engine_location\",\n",
    "           \"wheel_base\", \"length\", \"width\", \"height\", \"curb_weight\",\n",
    "           \"engine_type\", \"num_cylinders\", \"engine_size\", \"fuel_system\",\n",
    "           \"bore\", \"stroke\", \"compression_ratio\", \"horsepower\", \"peak_rpm\",\n",
    "           \"city_mpg\", \"highway_mpg\", \"price\"]\n",
    "\n",
    "df = pd.read_csv(url, names=columns, na_values='?')\n",
    "print(\"Car Dataset Shape:\", df.shape)\n"
   ],
   "id": "337a0afebc2c2722",
   "outputs": [
    {
     "name": "stdout",
     "output_type": "stream",
     "text": [
      "Car Dataset Shape: (205, 26)\n"
     ]
    }
   ],
   "execution_count": 12
  },
  {
   "metadata": {
    "ExecuteTime": {
     "end_time": "2025-09-07T17:03:45.946850Z",
     "start_time": "2025-09-07T17:03:45.924378Z"
    }
   },
   "cell_type": "code",
   "source": [
    "df = df.dropna(subset=['price'])\n",
    "\n",
    "numeric_columns = df.select_dtypes(include=[np.number]).columns\n",
    "categorical_columns = df.select_dtypes(include=['object']).columns\n",
    "\n",
    "for col in numeric_columns:\n",
    "    if col != 'price':\n",
    "        df[col] = df[col].fillna(df[col].median())\n",
    "\n",
    "for col in categorical_columns:\n",
    "    df[col] = df[col].fillna(df[col].mode()[0])\n",
    "\n",
    "door_mapping = {'two': 2, 'four': 4}\n",
    "cylinder_mapping = {\n",
    "    'two': 2, 'three': 3, 'four': 4, 'five': 5,\n",
    "    'six': 6, 'eight': 8, 'twelve': 12\n",
    "}\n",
    "df['num_doors'] = df['num_doors'].map(door_mapping)\n",
    "df['num_cylinders'] = df['num_cylinders'].map(cylinder_mapping)\n",
    "\n",
    "for col, prefix in zip(['body_style', 'drive_wheels'], ['body_style', 'drive_wheels']):\n",
    "    if col in df.columns:\n",
    "        df = pd.get_dummies(df, columns=[col], prefix=[prefix])\n",
    "\n",
    "le = LabelEncoder()\n",
    "for col in ['make', 'aspiration', 'engine_location', 'fuel_type']:\n",
    "    if col in df.columns:  # ✅ prevent KeyError if column missing\n",
    "        df[col] = le.fit_transform(df[col])\n",
    "\n",
    "if 'fuel_system' in df.columns:\n",
    "    df['fuel_system'] = df['fuel_system'].apply(lambda x: 1 if 'pfi' in str(x).lower() else 0)\n",
    "if 'engine_type' in df.columns:\n",
    "    df['engine_type'] = df['engine_type'].apply(lambda x: 1 if 'ohc' in str(x).lower() else 0)\n",
    "\n",
    "print(f\"Processed Dataset Shape: {df.shape}\")\n"
   ],
   "id": "9c864af39fbdf849",
   "outputs": [
    {
     "name": "stdout",
     "output_type": "stream",
     "text": [
      "Processed Dataset Shape: (201, 32)\n"
     ]
    }
   ],
   "execution_count": 15
  },
  {
   "metadata": {
    "ExecuteTime": {
     "end_time": "2025-09-07T17:05:43.730818Z",
     "start_time": "2025-09-07T17:05:43.716822Z"
    }
   },
   "cell_type": "code",
   "source": [
    "df = df.dropna(subset=['price'])\n",
    "\n",
    "numeric_columns = df.select_dtypes(include=[np.number]).columns\n",
    "categorical_columns = df.select_dtypes(include=['object']).columns\n",
    "\n",
    "for col in numeric_columns:\n",
    "    if col != 'price':\n",
    "        df[col] = df[col].fillna(df[col].median())\n",
    "\n",
    "for col in categorical_columns:\n",
    "    df[col] = df[col].replace('?', np.nan).fillna(df[col].mode()[0])\n",
    "\n",
    "door_mapping = {'two': 2, 'four': 4}\n",
    "cylinder_mapping = {'two': 2, 'three': 3, 'four': 4, 'five': 5, 'six': 6, 'eight': 8, 'twelve': 12}\n",
    "df['num_doors'] = df['num_doors'].map(door_mapping).fillna(0)\n",
    "df['num_cylinders'] = df['num_cylinders'].map(cylinder_mapping).fillna(0)\n",
    "\n",
    "dummy_cols = []\n",
    "if 'body_style' in df.columns:\n",
    "    dummy_cols.append('body_style')\n",
    "if 'drive_wheels' in df.columns:\n",
    "    dummy_cols.append('drive_wheels')\n",
    "\n",
    "if dummy_cols:\n",
    "    df = pd.get_dummies(df, columns=dummy_cols, prefix=dummy_cols)\n",
    "\n",
    "le = LabelEncoder()\n",
    "for col in ['make', 'aspiration', 'engine_location', 'fuel_type']:\n",
    "    if col in df.columns:\n",
    "        df[col] = df[col].replace('?', np.nan).fillna(df[col].mode()[0])\n",
    "        df[col] = le.fit_transform(df[col])\n",
    "\n",
    "if 'fuel_system' in df.columns:\n",
    "    df['fuel_system'] = df['fuel_system'].apply(lambda x: 1 if 'pfi' in str(x).lower() else 0)\n",
    "\n",
    "if 'engine_type' in df.columns:\n",
    "    df['engine_type'] = df['engine_type'].apply(lambda x: 1 if 'ohc' in str(x).lower() else 0)\n",
    "\n",
    "print(\"Final Columns:\", df.columns.tolist())\n",
    "print(\"NaNs after preprocessing:\", df.isna().sum().sum())\n"
   ],
   "id": "973b6213246c9914",
   "outputs": [
    {
     "name": "stdout",
     "output_type": "stream",
     "text": [
      "Final Columns: ['symboling', 'normalized_losses', 'make', 'fuel_type', 'aspiration', 'num_doors', 'engine_location', 'wheel_base', 'length', 'width', 'height', 'curb_weight', 'engine_type', 'num_cylinders', 'engine_size', 'fuel_system', 'bore', 'stroke', 'compression_ratio', 'horsepower', 'peak_rpm', 'city_mpg', 'highway_mpg', 'price', 'body_style_convertible', 'body_style_hardtop', 'body_style_hatchback', 'body_style_sedan', 'body_style_wagon', 'drive_wheels_4wd', 'drive_wheels_fwd', 'drive_wheels_rwd']\n",
      "NaNs after preprocessing: 0\n"
     ]
    }
   ],
   "execution_count": 20
  },
  {
   "metadata": {
    "ExecuteTime": {
     "end_time": "2025-09-07T17:08:22.060045Z",
     "start_time": "2025-09-07T17:08:22.050702Z"
    }
   },
   "cell_type": "code",
   "source": [
    "# Impute NaNs after scaling\n",
    "imputer = SimpleImputer(strategy=\"median\")\n",
    "X_train_imputed = imputer.fit_transform(X_train)\n",
    "X_test_imputed = imputer.transform(X_test)\n",
    "\n",
    "# ---- Original Model ----\n",
    "model = LinearRegression()\n",
    "model.fit(X_train_imputed, y_train)\n",
    "y_pred = model.predict(X_test_imputed)\n",
    "r2_original = r2_score(y_test, y_pred)\n",
    "print(f\"Original Model R² Score: {r2_original:.4f}\")\n",
    "\n",
    "# ---- PCA Model ----\n",
    "pca = PCA(n_components=0.95)\n",
    "X_train_pca = pca.fit_transform(X_train_imputed)\n",
    "X_test_pca = pca.transform(X_test_imputed)\n",
    "\n",
    "print(f\"PCA Components: {pca.n_components_} (from {X.shape[1]} original features)\")\n",
    "\n",
    "model_pca = LinearRegression()\n",
    "model_pca.fit(X_train_pca, y_train)\n",
    "y_pred_pca = model_pca.predict(X_test_pca)\n",
    "r2_pca = r2_score(y_test, y_pred_pca)\n",
    "print(f\"PCA Model R² Score: {r2_pca:.4f}\")\n",
    "\n",
    "# ---- Comparison ----\n",
    "if r2_pca > r2_original:\n",
    "    print(\"PCA improved performance!\")\n",
    "elif r2_pca < r2_original:\n",
    "    print(\"PCA reduced performance.\")\n",
    "else:\n",
    "    print(\"PCA had no significant impact.\")"
   ],
   "id": "a21664706c1d250d",
   "outputs": [
    {
     "name": "stdout",
     "output_type": "stream",
     "text": [
      "Original Model R² Score: 0.8730\n",
      "PCA Components: 15 (from 31 original features)\n",
      "PCA Model R² Score: 0.8506\n",
      "PCA reduced performance.\n"
     ]
    }
   ],
   "execution_count": 24
  }
 ],
 "metadata": {
  "kernelspec": {
   "display_name": "Python 3",
   "language": "python",
   "name": "python3"
  },
  "language_info": {
   "codemirror_mode": {
    "name": "ipython",
    "version": 2
   },
   "file_extension": ".py",
   "mimetype": "text/x-python",
   "name": "python",
   "nbconvert_exporter": "python",
   "pygments_lexer": "ipython2",
   "version": "2.7.6"
  }
 },
 "nbformat": 4,
 "nbformat_minor": 5
}
