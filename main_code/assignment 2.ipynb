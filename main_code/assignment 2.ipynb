{
 "cells": [
  {
   "cell_type": "code",
   "id": "initial_id",
   "metadata": {
    "collapsed": true,
    "ExecuteTime": {
     "end_time": "2025-09-07T16:42:19.922278Z",
     "start_time": "2025-09-07T16:42:18.635253Z"
    }
   },
   "source": [
    "import pandas as pd\n",
    "from sklearn.preprocessing import MinMaxScaler\n",
    "import numpy as np\n",
    "from sklearn.metrics.pairwise import cosine_similarity\n",
    "from sklearn.metrics import jaccard_score"
   ],
   "outputs": [],
   "execution_count": 1
  },
  {
   "metadata": {},
   "cell_type": "markdown",
   "source": "# -------- Part 1 --------",
   "id": "1c149a1ee32cc80d"
  },
  {
   "metadata": {
    "ExecuteTime": {
     "end_time": "2025-09-07T16:43:44.584853Z",
     "start_time": "2025-09-07T16:43:44.472507Z"
    }
   },
   "cell_type": "code",
   "outputs": [],
   "execution_count": 2,
   "source": [
    "df = pd.read_csv(\"AWCustomers.csv\")\n",
    "\n",
    "selected_features = ['CustomerID', 'Title', 'FirstName', 'MiddleName', 'LastName',\n",
    "                     'Suffix', 'AddressLine1', 'AddressLine2', 'City', 'StateProvinceName',\n",
    "                     'CountryRegionName', 'PostalCode', 'PhoneNumber', 'BirthDate', 'Education',\n",
    "                     'Occupation', 'Gender', 'MaritalStatus', 'HomeOwnerFlag', 'NumberCarsOwned',\n",
    "                     'NumberChildrenAtHome', 'TotalChildren', 'YearlyIncome', 'LastUpdated']\n",
    "\n",
    "df_selected = df[selected_features]"
   ],
   "id": "e67aa8145bca5df1"
  },
  {
   "metadata": {},
   "cell_type": "markdown",
   "source": "# -------- Part 2 --------",
   "id": "5117a79554a21e9d"
  },
  {
   "metadata": {
    "ExecuteTime": {
     "end_time": "2025-09-07T16:45:20.193642Z",
     "start_time": "2025-09-07T16:45:20.129140Z"
    }
   },
   "cell_type": "code",
   "source": [
    "df_selected['YearlyIncome'] = df_selected['YearlyIncome'].fillna(df_selected['YearlyIncome'].mean())\n",
    "df_selected['Education'] = df_selected['Education'].fillna(df_selected['Education'].mode()[0])\n",
    "df_selected['NumberChildrenAtHome'] = df_selected['NumberChildrenAtHome'].fillna(df_selected['NumberChildrenAtHome'].median())\n",
    "df_selected['NumberCarsOwned'] = df_selected['NumberCarsOwned'].fillna(df_selected['NumberCarsOwned'].median())\n",
    "df_selected['TotalChildren'] = df_selected['TotalChildren'].fillna(df_selected['TotalChildren'].median())\n",
    "\n",
    "df_selected['BirthDate'] = pd.to_datetime(df_selected['BirthDate'])\n",
    "df_selected['Age'] = (pd.Timestamp.today() - df_selected['BirthDate']).dt.days // 365\n",
    "\n",
    "numeric_features = ['Age', 'YearlyIncome', 'NumberChildrenAtHome', 'NumberCarsOwned', 'TotalChildren']\n",
    "scaler = MinMaxScaler()\n",
    "df_selected[numeric_features] = scaler.fit_transform(df_selected[numeric_features])\n",
    "\n",
    "df_selected['Age_binned'] = pd.cut(df_selected['Age'], bins=5, labels=False)\n",
    "df_selected['Income_binned'] = pd.qcut(df_selected['YearlyIncome'], 5, labels=False)\n",
    "\n",
    "df_final = pd.get_dummies(df_selected, columns=['Gender', 'MaritalStatus', 'StateProvinceName'], drop_first=True)\n",
    "\n",
    "print(df_final.shape)"
   ],
   "id": "8c1afc95371d7a5e",
   "outputs": [
    {
     "name": "stdout",
     "output_type": "stream",
     "text": [
      "(18361, 79)\n"
     ]
    }
   ],
   "execution_count": 3
  },
  {
   "metadata": {},
   "cell_type": "markdown",
   "source": "# -------- Part 3 --------",
   "id": "eebc5e6ed579f9a9"
  },
  {
   "metadata": {
    "ExecuteTime": {
     "end_time": "2025-09-07T16:47:10.873738Z",
     "start_time": "2025-09-07T16:47:10.852717Z"
    }
   },
   "cell_type": "code",
   "source": [
    "obj1 = df_final.iloc[0]\n",
    "obj2 = df_final.iloc[1]\n",
    "\n",
    "numeric_cols = df_final.select_dtypes(include=['float64','int64','uint8']).columns\n",
    "obj1_num = obj1[numeric_cols].values\n",
    "obj2_num = obj2[numeric_cols].values\n",
    "\n",
    "binary_features = df_final.select_dtypes(include=['uint8']).columns\n",
    "obj1_bin = obj1[binary_features].values\n",
    "obj2_bin = obj2[binary_features].values\n",
    "\n",
    "if len(obj1_bin) > 0:\n",
    "    simple_match = np.sum(obj1_bin == obj2_bin) / len(obj1_bin)\n",
    "else:\n",
    "    simple_match = np.nan\n",
    "if np.sum(obj1_bin + obj2_bin) == 0:\n",
    "    jaccard = 0.0\n",
    "else:\n",
    "    jaccard = jaccard_score(obj1_bin, obj2_bin, zero_division=0)\n",
    "\n",
    "cos_sim = cosine_similarity([obj1_num], [obj2_num])[0][0]\n",
    "\n",
    "print(\"Simple Matching Similarity:\", simple_match)\n",
    "print(\"Jaccard Similarity:\", jaccard)\n",
    "print(\"Cosine Similarity:\", cos_sim)"
   ],
   "id": "2392606b395a8f81",
   "outputs": [
    {
     "name": "stdout",
     "output_type": "stream",
     "text": [
      "Simple Matching Similarity: nan\n",
      "Jaccard Similarity: 0.0\n",
      "Cosine Similarity: 0.9999999833640077\n"
     ]
    }
   ],
   "execution_count": 4
  }
 ],
 "metadata": {
  "kernelspec": {
   "display_name": "Python 3",
   "language": "python",
   "name": "python3"
  },
  "language_info": {
   "codemirror_mode": {
    "name": "ipython",
    "version": 2
   },
   "file_extension": ".py",
   "mimetype": "text/x-python",
   "name": "python",
   "nbconvert_exporter": "python",
   "pygments_lexer": "ipython2",
   "version": "2.7.6"
  }
 },
 "nbformat": 4,
 "nbformat_minor": 5
}
