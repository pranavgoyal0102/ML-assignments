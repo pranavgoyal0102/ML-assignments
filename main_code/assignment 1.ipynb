{
 "cells": [
  {
   "cell_type": "code",
   "id": "initial_id",
   "metadata": {
    "collapsed": true,
    "ExecuteTime": {
     "end_time": "2025-09-07T16:35:53.723336Z",
     "start_time": "2025-09-07T16:35:53.720937Z"
    }
   },
   "source": [
    "import numpy as np\n",
    "from PIL import Image"
   ],
   "outputs": [],
   "execution_count": 4
  },
  {
   "metadata": {
    "collapsed": true,
    "ExecuteTime": {
     "end_time": "2025-09-07T16:35:53.723336Z",
     "start_time": "2025-09-07T16:35:53.720937Z"
    }
   },
   "cell_type": "markdown",
   "source": "# ---------------- Q1 ----------------",
   "id": "7c997ae1cc6cea2e"
  },
  {
   "metadata": {
    "ExecuteTime": {
     "end_time": "2025-09-07T16:37:11.514383Z",
     "start_time": "2025-09-07T16:37:11.511434Z"
    }
   },
   "cell_type": "code",
   "source": [
    "# a\n",
    "arr = np.array([1, 2, 3, 6, 4, 5])\n",
    "print(\"reversed:\", arr[::-1])"
   ],
   "id": "cec1e3f8ef337e1d",
   "outputs": [
    {
     "name": "stdout",
     "output_type": "stream",
     "text": [
      "reversed: [5 4 6 3 2 1]\n"
     ]
    }
   ],
   "execution_count": 7
  },
  {
   "metadata": {
    "ExecuteTime": {
     "end_time": "2025-09-07T16:37:55.676834Z",
     "start_time": "2025-09-07T16:37:55.674187Z"
    }
   },
   "cell_type": "code",
   "source": [
    "# b\n",
    "array1 = np.array([[1, 2, 3], [2, 4, 5], [1, 2, 3]])\n",
    "print(\"using flatten():\", array1.flatten())\n",
    "print(\"using ravel():\", np.ravel(array1))"
   ],
   "id": "1baa3d8a8ead09fe",
   "outputs": [
    {
     "name": "stdout",
     "output_type": "stream",
     "text": [
      "using flatten(): [1 2 3 2 4 5 1 2 3]\n",
      "using ravel(): [1 2 3 2 4 5 1 2 3]\n"
     ]
    }
   ],
   "execution_count": 8
  },
  {
   "metadata": {
    "ExecuteTime": {
     "end_time": "2025-09-07T16:38:07.377917Z",
     "start_time": "2025-09-07T16:38:07.364242Z"
    }
   },
   "cell_type": "code",
   "source": [
    "# c\n",
    "arr1 = np.array([[1, 2], [3, 4]])\n",
    "arr2 = np.array([[1, 2], [3, 4]])\n",
    "print(\"are equal:\", np.array_equal(arr1, arr2))"
   ],
   "id": "709f5046702ee577",
   "outputs": [
    {
     "name": "stdout",
     "output_type": "stream",
     "text": [
      "are equal: True\n"
     ]
    }
   ],
   "execution_count": 9
  },
  {
   "metadata": {
    "ExecuteTime": {
     "end_time": "2025-09-07T16:38:26.558083Z",
     "start_time": "2025-09-07T16:38:26.542962Z"
    }
   },
   "cell_type": "code",
   "source": [
    "# d\n",
    "x = np.array([1,2,3,4,5,1,2,1,1,1])\n",
    "y = np.array([1, 1, 1, 2, 3, 4, 2, 4, 3, 3])\n",
    "most_freq_x = np.bincount(x).argmax()\n",
    "most_freq_y = np.bincount(y).argmax()\n",
    "print(\"Most frequent in x:\", most_freq_x, \", Indices:\", np.where(x == most_freq_x)[0])\n",
    "print(\"Most frequent in y:\", most_freq_y, \", Indices:\", np.where(y == most_freq_y)[0])"
   ],
   "id": "8ea8fac905c03789",
   "outputs": [
    {
     "name": "stdout",
     "output_type": "stream",
     "text": [
      "Most frequent in x: 1 , Indices: [0 5 7 8 9]\n",
      "Most frequent in y: 1 , Indices: [0 1 2]\n"
     ]
    }
   ],
   "execution_count": 10
  },
  {
   "metadata": {
    "ExecuteTime": {
     "end_time": "2025-09-07T16:38:37.764071Z",
     "start_time": "2025-09-07T16:38:37.750953Z"
    }
   },
   "cell_type": "code",
   "source": [
    "# e\n",
    "gfg = np.matrix('[4, 1, 9; 12, 3, 1; 4, 5, 6]')\n",
    "print(\"sum:\", gfg.sum())\n",
    "print(\"row sum:\", gfg.sum(axis=1))\n",
    "print(\"column sum:\", gfg.sum(axis=0))"
   ],
   "id": "f19b18764754611b",
   "outputs": [
    {
     "name": "stdout",
     "output_type": "stream",
     "text": [
      "sum: 45\n",
      "row sum: [[14]\n",
      " [16]\n",
      " [15]]\n",
      "column sum: [[20  9 16]]\n"
     ]
    }
   ],
   "execution_count": 11
  },
  {
   "metadata": {
    "ExecuteTime": {
     "end_time": "2025-09-07T16:38:51.849162Z",
     "start_time": "2025-09-07T16:38:51.828607Z"
    }
   },
   "cell_type": "code",
   "source": [
    "# f\n",
    "n_array = np.array([[55, 25, 15], [30, 44, 2], [11, 45, 77]])\n",
    "print(\"diagonal sum:\", np.trace(n_array))\n",
    "print(\"eigenvalues:\", np.linalg.eigvals(n_array))\n",
    "vals, vecs = np.linalg.eig(n_array)\n",
    "print(\"eigenvectors:\\n\", vecs)\n",
    "print(\"inverse:\\n\", np.linalg.inv(n_array))\n",
    "print(\"determinant:\", np.linalg.det(n_array))"
   ],
   "id": "21e6d66bd7c0c9bf",
   "outputs": [
    {
     "name": "stdout",
     "output_type": "stream",
     "text": [
      "diagonal sum: 176\n",
      "eigenvalues: [98.16835147 28.097044   49.73460452]\n",
      "eigenvectors:\n",
      " [[ 0.4574917   0.34637121 -0.15017693]\n",
      " [ 0.28447814 -0.72784061 -0.4852124 ]\n",
      " [ 0.84248058  0.59184038  0.8614034 ]]\n",
      "inverse:\n",
      " [[ 0.02404141 -0.00911212 -0.00444671]\n",
      " [-0.01667882  0.02966905  0.0024785 ]\n",
      " [ 0.00631287 -0.01603732  0.01217379]]\n",
      "determinant: 137180.0000000001\n"
     ]
    }
   ],
   "execution_count": 12
  },
  {
   "metadata": {
    "ExecuteTime": {
     "end_time": "2025-09-07T16:39:23.179868Z",
     "start_time": "2025-09-07T16:39:23.175269Z"
    }
   },
   "cell_type": "code",
   "source": [
    "# g\n",
    "p1 = np.array([[1, 2], [2, 3]])\n",
    "q1 = np.array([[4, 5], [6, 7]])\n",
    "print(\"matrix prod 1:\\n\", np.dot(p1, q1))\n",
    "print(\"covar of prod 1:\", np.cov(np.dot(p1, q1)))\n",
    "\n",
    "p2 = np.array([[1, 2], [2, 3], [4, 5]])\n",
    "q2 = np.array([[4, 5, 1], [6, 7, 2]])\n",
    "print(\"matrix prod 2:\\n\", np.dot(p2, q2))\n",
    "print(\"covar of prod 2:\", np.cov(np.dot(p2, q2)))"
   ],
   "id": "f4f88b16effdfbd2",
   "outputs": [
    {
     "name": "stdout",
     "output_type": "stream",
     "text": [
      "matrix prod 1:\n",
      " [[16 19]\n",
      " [26 31]]\n",
      "covar of prod 1: [[ 4.5  7.5]\n",
      " [ 7.5 12.5]]\n",
      "matrix prod 2:\n",
      " [[16 19  5]\n",
      " [26 31  8]\n",
      " [46 55 14]]\n",
      "covar of prod 2: [[ 54.33333333  89.16666667 158.83333333]\n",
      " [ 89.16666667 146.33333333 260.66666667]\n",
      " [158.83333333 260.66666667 464.33333333]]\n"
     ]
    }
   ],
   "execution_count": 15
  },
  {
   "metadata": {
    "ExecuteTime": {
     "end_time": "2025-09-07T16:39:31.514434Z",
     "start_time": "2025-09-07T16:39:31.499915Z"
    }
   },
   "cell_type": "code",
   "source": [
    "# h\n",
    "x = np.array([[2, 3, 4], [3, 2, 9]])\n",
    "y = np.array([[1, 5, 0], [5, 10, 3]])\n",
    "print(\"inner prod:\", np.inner(x[0], y[0]))\n",
    "print(\"outer prod:\\n\", np.outer(x, y))\n",
    "cartesian = np.array(np.meshgrid(x.flatten(), y.flatten())).T.reshape(-1, 2)\n",
    "print(\"cart prod:\\n\", cartesian)"
   ],
   "id": "ee0264490fbc0a86",
   "outputs": [
    {
     "name": "stdout",
     "output_type": "stream",
     "text": [
      "inner prod: 17\n",
      "outer prod:\n",
      " [[ 2 10  0 10 20  6]\n",
      " [ 3 15  0 15 30  9]\n",
      " [ 4 20  0 20 40 12]\n",
      " [ 3 15  0 15 30  9]\n",
      " [ 2 10  0 10 20  6]\n",
      " [ 9 45  0 45 90 27]]\n",
      "cart prod:\n",
      " [[ 2  1]\n",
      " [ 2  5]\n",
      " [ 2  0]\n",
      " [ 2  5]\n",
      " [ 2 10]\n",
      " [ 2  3]\n",
      " [ 3  1]\n",
      " [ 3  5]\n",
      " [ 3  0]\n",
      " [ 3  5]\n",
      " [ 3 10]\n",
      " [ 3  3]\n",
      " [ 4  1]\n",
      " [ 4  5]\n",
      " [ 4  0]\n",
      " [ 4  5]\n",
      " [ 4 10]\n",
      " [ 4  3]\n",
      " [ 3  1]\n",
      " [ 3  5]\n",
      " [ 3  0]\n",
      " [ 3  5]\n",
      " [ 3 10]\n",
      " [ 3  3]\n",
      " [ 2  1]\n",
      " [ 2  5]\n",
      " [ 2  0]\n",
      " [ 2  5]\n",
      " [ 2 10]\n",
      " [ 2  3]\n",
      " [ 9  1]\n",
      " [ 9  5]\n",
      " [ 9  0]\n",
      " [ 9  5]\n",
      " [ 9 10]\n",
      " [ 9  3]]\n"
     ]
    }
   ],
   "execution_count": 16
  },
  {
   "metadata": {},
   "cell_type": "markdown",
   "source": "# ---------------- Q2 ----------------",
   "id": "41a0d5ce70f68fd1"
  },
  {
   "metadata": {
    "ExecuteTime": {
     "end_time": "2025-09-07T16:40:09.259216Z",
     "start_time": "2025-09-07T16:40:09.240311Z"
    }
   },
   "cell_type": "code",
   "source": [
    "array = np.array([[1, -2, 3], [-4, 5, -6]])\n",
    "print(\"abs:\", np.abs(array))\n",
    "flat = array.flatten()\n",
    "print(\"percentiles (flat):\", np.percentile(flat, [25, 50, 75]))\n",
    "print(\"oercentiles (cols):\", np.percentile(array, [25, 50, 75], axis=0))\n",
    "print(\"percentiles (rows):\", np.percentile(array, [25, 50, 75], axis=1))\n",
    "print(\"mean:\", flat.mean(), \"Median:\", np.median(flat), \"std dev:\", flat.std())\n",
    "print(\"mean (cols):\", array.mean(axis=0), \"median (cols):\", np.median(array, axis=0))\n",
    "print(\"mean (rows):\", array.mean(axis=1), \"median (rows):\", np.median(array, axis=1))"
   ],
   "id": "9961a0e4a7211492",
   "outputs": [
    {
     "name": "stdout",
     "output_type": "stream",
     "text": [
      "abs: [[1 2 3]\n",
      " [4 5 6]]\n",
      "percentiles (flat): [-3.5 -0.5  2.5]\n",
      "oercentiles (cols): [[-2.75 -0.25 -3.75]\n",
      " [-1.5   1.5  -1.5 ]\n",
      " [-0.25  3.25  0.75]]\n",
      "percentiles (rows): [[-0.5 -5. ]\n",
      " [ 1.  -4. ]\n",
      " [ 2.   0.5]]\n",
      "mean: -0.5 Median: -0.5 std dev: 3.8622100754188224\n",
      "mean (cols): [-1.5  1.5 -1.5] median (cols): [-1.5  1.5 -1.5]\n",
      "mean (rows): [ 0.66666667 -1.66666667] median (rows): [ 1. -4.]\n"
     ]
    }
   ],
   "execution_count": 18
  },
  {
   "metadata": {
    "ExecuteTime": {
     "end_time": "2025-09-07T16:40:17.635658Z",
     "start_time": "2025-09-07T16:40:17.631647Z"
    }
   },
   "cell_type": "code",
   "source": [
    "# b\n",
    "a = np.array([-1.8, -1.6, -0.5, 0.5, 1.6, 1.8, 3.0])\n",
    "print(\"floor:\", np.floor(a))\n",
    "print(\"ceiling:\", np.ceil(a))\n",
    "print(\"truncated:\", np.trunc(a))\n",
    "print(\"rounded:\", np.round(a))"
   ],
   "id": "22de6cfafad1b35b",
   "outputs": [
    {
     "name": "stdout",
     "output_type": "stream",
     "text": [
      "floor: [-2. -2. -1.  0.  1.  1.  3.]\n",
      "ceiling: [-1. -1. -0.  1.  2.  2.  3.]\n",
      "truncated: [-1. -1. -0.  0.  1.  1.  3.]\n",
      "rounded: [-2. -2. -0.  0.  2.  2.  3.]\n"
     ]
    }
   ],
   "execution_count": 19
  },
  {
   "metadata": {},
   "cell_type": "markdown",
   "source": "# ---------------- Q3 ----------------",
   "id": "344ce725334cec60"
  },
  {
   "metadata": {
    "ExecuteTime": {
     "end_time": "2025-09-07T16:40:39.208475Z",
     "start_time": "2025-09-07T16:40:39.186799Z"
    }
   },
   "cell_type": "code",
   "source": [
    "array = np.array([10, 52, 62, 16, 16, 54, 453])\n",
    "print(\"sorted:\", np.sort(array))\n",
    "print(\"sorted indices:\", np.argsort(array))\n",
    "print(\"4 smallest:\", np.sort(array)[:4])\n",
    "print(\"5 largest:\", np.sort(array)[-5:])\n",
    "\n",
    "array2 = np.array([1.0, 1.2, 2.2, 2.0, 3.0, 2.0])\n",
    "print(\"integer elements:\", array2[array2 == array2.astype(int)])\n",
    "print(\"float elements:\", array2[array2 != array2.astype(int)])"
   ],
   "id": "dc01f03136d0f0e0",
   "outputs": [
    {
     "name": "stdout",
     "output_type": "stream",
     "text": [
      "sorted: [ 10  16  16  52  54  62 453]\n",
      "sorted indices: [0 3 4 1 5 2 6]\n",
      "4 smallest: [10 16 16 52]\n",
      "5 largest: [ 16  52  54  62 453]\n",
      "integer elements: [1. 2. 3. 2.]\n",
      "float elements: [1.2 2.2]\n"
     ]
    }
   ],
   "execution_count": 20
  },
  {
   "metadata": {},
   "cell_type": "markdown",
   "source": "# ---------------- Q4 ----------------",
   "id": "85918e4a41ea9d44"
  },
  {
   "metadata": {},
   "cell_type": "code",
   "outputs": [],
   "execution_count": null,
   "source": "",
   "id": "53466dae09fd7ff3"
  },
  {
   "metadata": {
    "ExecuteTime": {
     "end_time": "2025-09-07T16:41:54.837284Z",
     "start_time": "2025-09-07T16:41:54.834308Z"
    }
   },
   "cell_type": "code",
   "source": [
    "def img_to_array(path):\n",
    "    img = Image.open(path)\n",
    "    arr = np.array(img)\n",
    "    if len(arr.shape) == 2:\n",
    "        np.savetxt(\"gray_image.txt\", arr, fmt='%d')\n",
    "    else:\n",
    "        np.savetxt(\"rgb_image.txt\", arr.reshape(-1, arr.shape[2]), fmt='%d')\n",
    "    return arr"
   ],
   "id": "308ef8b5c54b7e63",
   "outputs": [],
   "execution_count": 22
  }
 ],
 "metadata": {
  "kernelspec": {
   "display_name": "Python 3",
   "language": "python",
   "name": "python3"
  },
  "language_info": {
   "codemirror_mode": {
    "name": "ipython",
    "version": 2
   },
   "file_extension": ".py",
   "mimetype": "text/x-python",
   "name": "python",
   "nbconvert_exporter": "python",
   "pygments_lexer": "ipython2",
   "version": "2.7.6"
  }
 },
 "nbformat": 4,
 "nbformat_minor": 5
}
